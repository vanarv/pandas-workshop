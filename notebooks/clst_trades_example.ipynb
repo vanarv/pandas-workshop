{
 "cells": [
  {
   "cell_type": "markdown",
   "id": "87e18957",
   "metadata": {},
   "source": [
    "## Example of reading Apex Pro Client execution and allocation files"
   ]
  },
  {
   "cell_type": "code",
   "execution_count": null,
   "id": "a7320b07",
   "metadata": {},
   "outputs": [],
   "source": [
    "import numpy as np\n",
    "import pandas as pd"
   ]
  },
  {
   "cell_type": "code",
   "execution_count": null,
   "id": "a9fa554a",
   "metadata": {},
   "outputs": [],
   "source": [
    "# Load executions \n",
    "etdx_trades_df = pd.read_csv('/Users/avanthavasi/Downloads/ETDX_20230112_1_TRADE.csv')\n",
    "etdx_trades_df.shape"
   ]
  },
  {
   "cell_type": "code",
   "execution_count": null,
   "id": "0a62e336",
   "metadata": {},
   "outputs": [],
   "source": [
    "etdx_trades_df.info()"
   ]
  },
  {
   "cell_type": "code",
   "execution_count": null,
   "id": "24cff74d",
   "metadata": {},
   "outputs": [],
   "source": [
    "etdx_trades_df.head()"
   ]
  },
  {
   "cell_type": "code",
   "execution_count": null,
   "id": "ff12311b",
   "metadata": {},
   "outputs": [],
   "source": [
    "etdx_trades_df.type.value_counts()"
   ]
  },
  {
   "cell_type": "code",
   "execution_count": null,
   "id": "b48110dc",
   "metadata": {},
   "outputs": [],
   "source": [
    "# Data clean-up\n",
    "# This is needed for an exercise in cells below. It is cleaning up null values, which pandas will generally populate as NaN, which is not very useful\n",
    "etdx_trades_df.loc[:, 'side.qualifier'].fillna('', inplace=True)\n",
    "etdx_trades_df.loc[:, 'contra_side_qualifier'].fillna('', inplace=True)"
   ]
  },
  {
   "cell_type": "code",
   "execution_count": null,
   "id": "dba10167",
   "metadata": {},
   "outputs": [],
   "source": [
    "# split trades between allocations and executions\n",
    "cond = etdx_trades_df['type'] == 'allocation_trade'\n",
    "alloc_df = etdx_trades_df.loc[cond]\n",
    "exec_df = etdx_trades_df.loc[~cond]"
   ]
  },
  {
   "cell_type": "code",
   "execution_count": null,
   "id": "246cf32f",
   "metadata": {},
   "outputs": [],
   "source": [
    "# Number of executions by ticker\n",
    "exec_df['instrument.identifier'].value_counts()"
   ]
  },
  {
   "cell_type": "code",
   "execution_count": null,
   "id": "619e72d5",
   "metadata": {},
   "outputs": [],
   "source": [
    "# Number of allocations by ticker\n",
    "alloc_df['instrument.identifier'].value_counts()"
   ]
  },
  {
   "cell_type": "code",
   "execution_count": null,
   "id": "9d474f31",
   "metadata": {},
   "outputs": [],
   "source": [
    "# Let's look at one symbol - \"A\"\n",
    "# Allocations\n",
    "alloc_df.loc[alloc_df['instrument.identifier'] == 'A']"
   ]
  },
  {
   "cell_type": "code",
   "execution_count": null,
   "id": "5dbcc989",
   "metadata": {},
   "outputs": [],
   "source": [
    "# Executions \n",
    "exec_df.loc[exec_df['instrument.identifier'] == 'A']"
   ]
  },
  {
   "cell_type": "code",
   "execution_count": null,
   "id": "3fdf28fd",
   "metadata": {},
   "outputs": [],
   "source": [
    "# Verify that the allocations they sent for trades in 'A' reconcile with the individual executions\n",
    "# Trade Workflow\n",
    "# 1. Execution Trade: Ledger entry 1 for house account + Ledger Entry 2 for Avg price account (direction in avg price account = direction of trade)\n",
    "# 2. Allocation trade: Ledger entry 1 removes trade from avg price account (direction in avg price account is opp of direction of trade) + Ledger Entry 2 moves trade into customer account\n",
    "\n",
    "exec_a_buys_df = exec_df.loc[(exec_df['instrument.identifier'] == 'A') & (exec_df['side.direction'] == 'buy')]"
   ]
  },
  {
   "cell_type": "code",
   "execution_count": null,
   "id": "4508715e",
   "metadata": {},
   "outputs": [],
   "source": [
    "exec_a_buys_df['quantity'].sum()"
   ]
  },
  {
   "cell_type": "code",
   "execution_count": null,
   "id": "8a0c471b",
   "metadata": {},
   "outputs": [],
   "source": [
    "# Weighted average price of executions\n",
    "def weighted_avg_price(df):    \n",
    "    return np.average(df['price'], weights=df['quantity'])"
   ]
  },
  {
   "cell_type": "code",
   "execution_count": null,
   "id": "70fb18c2",
   "metadata": {},
   "outputs": [],
   "source": [
    "weighted_avg_price(exec_a_buys_df)"
   ]
  },
  {
   "cell_type": "code",
   "execution_count": null,
   "id": "211da6ed",
   "metadata": {},
   "outputs": [],
   "source": [
    "# Suppose we wanted to do this across all names / directions and qualfiers.\n",
    "# we can apply grouping to get weighted avg prices across all executions by [ticker, direction, contra_side_qualifier]\n",
    "weighted_exec_prices = exec_df.groupby(['instrument.identifier', 'side.direction', 'side.qualifier'])[['quantity', 'price']].apply(weighted_avg_price).reset_index()\n",
    "weighted_exec_prices.columns = ['instrument.identifier', 'side.direction', 'side.qualifier', 'price']"
   ]
  },
  {
   "cell_type": "code",
   "execution_count": null,
   "id": "523d3b98",
   "metadata": {},
   "outputs": [],
   "source": [
    "weighted_exec_prices"
   ]
  },
  {
   "cell_type": "code",
   "execution_count": null,
   "id": "ab972fd6",
   "metadata": {},
   "outputs": [],
   "source": [
    "alloc_prices = alloc_df.loc[:, ['instrument.identifier', 'side.direction', 'contra_side_qualifier', 'price']]\n",
    "alloc_prices.columns = ['instrument.identifier', 'side.direction', 'side.qualifier', 'price']"
   ]
  },
  {
   "cell_type": "code",
   "execution_count": null,
   "id": "4a2aa3f1",
   "metadata": {},
   "outputs": [],
   "source": [
    "# flip directions\n",
    "alloc_prices.loc[:, 'side.direction'] = alloc_prices.loc[:, 'side.direction'].apply(lambda dir: 'buy' if dir == 'sell' else 'sell')"
   ]
  },
  {
   "cell_type": "code",
   "execution_count": null,
   "id": "5053920d",
   "metadata": {},
   "outputs": [],
   "source": [
    "alloc_prices"
   ]
  },
  {
   "cell_type": "code",
   "execution_count": null,
   "id": "6eba6a6c",
   "metadata": {},
   "outputs": [],
   "source": [
    "merged = weighted_exec_prices.merge(alloc_prices, how='inner', on=['instrument.identifier', 'side.direction', 'side.qualifier'], suffixes=['_exec', '_alloc'])"
   ]
  },
  {
   "cell_type": "code",
   "execution_count": null,
   "id": "47c6acc8",
   "metadata": {},
   "outputs": [],
   "source": [
    "merged['diff'] = abs(merged['price_exec'] - merged['price_alloc'])"
   ]
  },
  {
   "cell_type": "code",
   "execution_count": null,
   "id": "16544b98",
   "metadata": {},
   "outputs": [],
   "source": [
    "merged.sort_values('diff', ascending=False)"
   ]
  },
  {
   "cell_type": "code",
   "execution_count": null,
   "id": "751ae46e",
   "metadata": {},
   "outputs": [],
   "source": [
    "merged.loc[merged['diff'] > 0.05]"
   ]
  },
  {
   "cell_type": "code",
   "execution_count": null,
   "id": "1238a8be",
   "metadata": {},
   "outputs": [],
   "source": []
  }
 ],
 "metadata": {
  "kernelspec": {
   "display_name": "Python 3 (ipykernel)",
   "language": "python",
   "name": "python3"
  },
  "language_info": {
   "codemirror_mode": {
    "name": "ipython",
    "version": 3
   },
   "file_extension": ".py",
   "mimetype": "text/x-python",
   "name": "python",
   "nbconvert_exporter": "python",
   "pygments_lexer": "ipython3",
   "version": "3.10.9"
  }
 },
 "nbformat": 4,
 "nbformat_minor": 5
}
